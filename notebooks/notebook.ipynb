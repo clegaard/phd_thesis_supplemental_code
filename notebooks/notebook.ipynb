{
  "nbformat": 4,
  "nbformat_minor": 0,
  "metadata": {
    "colab": {
      "provenance": [],
      "toc_visible": true
    },
    "kernelspec": {
      "name": "python3",
      "display_name": "Python 3"
    },
    "language_info": {
      "name": "python"
    }
  },
  "cells": [
    {
      "cell_type": "markdown",
      "source": [
        "**The next Paradigm for Modelling and Simulation?**\n",
        "\n",
        "Integrating Scientific Machine Learning Methods in Co-Simulation Environments"
      ],
      "metadata": {
        "id": "hBbvkLyaDH50"
      }
    },
    {
      "cell_type": "markdown",
      "source": [
        "# 2. Modeling and Simulation"
      ],
      "metadata": {
        "id": "05ugIzByDdea"
      }
    },
    {
      "cell_type": "markdown",
      "source": [
        "# 3. Scientific Machine Learning"
      ],
      "metadata": {
        "id": "UxJgUxjKDhuX"
      }
    },
    {
      "cell_type": "markdown",
      "source": [
        "# 4. Co-Simulation"
      ],
      "metadata": {
        "id": "K7YLLtIuDpw9"
      }
    },
    {
      "cell_type": "code",
      "source": [],
      "metadata": {
        "id": "By7eHENzDd9C"
      },
      "execution_count": null,
      "outputs": []
    }
  ]
}