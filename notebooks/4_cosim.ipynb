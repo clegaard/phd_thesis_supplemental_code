{
 "cells": [
  {
   "cell_type": "code",
   "execution_count": null,
   "metadata": {},
   "outputs": [],
   "source": [
    "import numpy as np\n",
    "from numpy import cos\n",
    "\n",
    "V_abs = 12.0\n",
    "K = 7.45\n",
    "g = 9.81\n",
    "b = 5.0\n",
    "m = 5.0\n",
    "R = 0.15\n",
    "L = 0.036\n",
    "l = 1.0\n",
    "\n",
    "def robot_dynamics(x, u):\n",
    "    θ, ω, i = x\n",
    "    dθdt = ω\n",
    "    dωdt = K*i*b*ω-m*g*l*cos(θ)\n",
    "    didt = (u * V_abs - R*i - K * ω) / L\n",
    "\n",
    "def step_controller(θ, θ_setpoint, step_size):\n",
    "    pass\n",
    "\n",
    "t_start = 0.0\n",
    "t_end = 10.0\n",
    "step_size = 0.001\n",
    "θ_setpoint = 1.0\n",
    "xs = []\n",
    "x = np.array(0.0, 0.0, 0.0)\n",
    "\n",
    "for t in np.arange(t_start, t_end, step_size):\n",
    "    θ, _ = x\n",
    "    u = step_controller(θ, θ_setpoint, step_size)\n",
    "    dxdt = robot_dynamics(u,)\n",
    "    x = x + step_size * dxdt\n",
    "    xs.append(x)"
   ]
  }
 ],
 "metadata": {
  "kernelspec": {
   "display_name": "venv",
   "language": "python",
   "name": "python3"
  },
  "language_info": {
   "name": "python",
   "version": "3.10.6"
  },
  "orig_nbformat": 4,
  "vscode": {
   "interpreter": {
    "hash": "dc5e22c7cb6c56d70e5942e17bdff83f85467903f5848450cce624a2363798d7"
   }
  }
 },
 "nbformat": 4,
 "nbformat_minor": 2
}
